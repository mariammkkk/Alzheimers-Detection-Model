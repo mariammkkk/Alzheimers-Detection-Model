{
 "cells": [
  {
   "cell_type": "markdown",
   "metadata": {},
   "source": [
    "## CS439: Final Project\n",
    "### Detecting Alzheimer's Disease from Handwriting."
   ]
  },
  {
   "cell_type": "code",
   "execution_count": 92,
   "metadata": {},
   "outputs": [],
   "source": [
    "# Importing libraries\n",
    "import pandas as pd\n",
    "import numpy as np"
   ]
  },
  {
   "cell_type": "markdown",
   "metadata": {},
   "source": [
    "**Step 1**: Need to load the dataset into our program."
   ]
  },
  {
   "cell_type": "code",
   "execution_count": 93,
   "metadata": {},
   "outputs": [
    {
     "data": {
      "text/html": [
       "<div>\n",
       "<style scoped>\n",
       "    .dataframe tbody tr th:only-of-type {\n",
       "        vertical-align: middle;\n",
       "    }\n",
       "\n",
       "    .dataframe tbody tr th {\n",
       "        vertical-align: top;\n",
       "    }\n",
       "\n",
       "    .dataframe thead th {\n",
       "        text-align: right;\n",
       "    }\n",
       "</style>\n",
       "<table border=\"1\" class=\"dataframe\">\n",
       "  <thead>\n",
       "    <tr style=\"text-align: right;\">\n",
       "      <th></th>\n",
       "      <th>ID</th>\n",
       "      <th>air_time1</th>\n",
       "      <th>disp_index1</th>\n",
       "      <th>gmrt_in_air1</th>\n",
       "      <th>gmrt_on_paper1</th>\n",
       "      <th>max_x_extension1</th>\n",
       "      <th>max_y_extension1</th>\n",
       "      <th>mean_acc_in_air1</th>\n",
       "      <th>mean_acc_on_paper1</th>\n",
       "      <th>mean_gmrt1</th>\n",
       "      <th>...</th>\n",
       "      <th>mean_jerk_in_air25</th>\n",
       "      <th>mean_jerk_on_paper25</th>\n",
       "      <th>mean_speed_in_air25</th>\n",
       "      <th>mean_speed_on_paper25</th>\n",
       "      <th>num_of_pendown25</th>\n",
       "      <th>paper_time25</th>\n",
       "      <th>pressure_mean25</th>\n",
       "      <th>pressure_var25</th>\n",
       "      <th>total_time25</th>\n",
       "      <th>class</th>\n",
       "    </tr>\n",
       "  </thead>\n",
       "  <tbody>\n",
       "    <tr>\n",
       "      <th>0</th>\n",
       "      <td>id_1</td>\n",
       "      <td>5160</td>\n",
       "      <td>0.000013</td>\n",
       "      <td>120.804174</td>\n",
       "      <td>86.853334</td>\n",
       "      <td>957</td>\n",
       "      <td>6601</td>\n",
       "      <td>0.361800</td>\n",
       "      <td>0.217459</td>\n",
       "      <td>103.828754</td>\n",
       "      <td>...</td>\n",
       "      <td>0.141434</td>\n",
       "      <td>0.024471</td>\n",
       "      <td>5.596487</td>\n",
       "      <td>3.184589</td>\n",
       "      <td>71</td>\n",
       "      <td>40120</td>\n",
       "      <td>1749.278166</td>\n",
       "      <td>296102.7676</td>\n",
       "      <td>144605</td>\n",
       "      <td>P</td>\n",
       "    </tr>\n",
       "    <tr>\n",
       "      <th>1</th>\n",
       "      <td>id_2</td>\n",
       "      <td>51980</td>\n",
       "      <td>0.000016</td>\n",
       "      <td>115.318238</td>\n",
       "      <td>83.448681</td>\n",
       "      <td>1694</td>\n",
       "      <td>6998</td>\n",
       "      <td>0.272513</td>\n",
       "      <td>0.144880</td>\n",
       "      <td>99.383459</td>\n",
       "      <td>...</td>\n",
       "      <td>0.049663</td>\n",
       "      <td>0.018368</td>\n",
       "      <td>1.665973</td>\n",
       "      <td>0.950249</td>\n",
       "      <td>129</td>\n",
       "      <td>126700</td>\n",
       "      <td>1504.768272</td>\n",
       "      <td>278744.2850</td>\n",
       "      <td>298640</td>\n",
       "      <td>P</td>\n",
       "    </tr>\n",
       "    <tr>\n",
       "      <th>2</th>\n",
       "      <td>id_3</td>\n",
       "      <td>2600</td>\n",
       "      <td>0.000010</td>\n",
       "      <td>229.933997</td>\n",
       "      <td>172.761858</td>\n",
       "      <td>2333</td>\n",
       "      <td>5802</td>\n",
       "      <td>0.387020</td>\n",
       "      <td>0.181342</td>\n",
       "      <td>201.347928</td>\n",
       "      <td>...</td>\n",
       "      <td>0.178194</td>\n",
       "      <td>0.017174</td>\n",
       "      <td>4.000781</td>\n",
       "      <td>2.392521</td>\n",
       "      <td>74</td>\n",
       "      <td>45480</td>\n",
       "      <td>1431.443492</td>\n",
       "      <td>144411.7055</td>\n",
       "      <td>79025</td>\n",
       "      <td>P</td>\n",
       "    </tr>\n",
       "    <tr>\n",
       "      <th>3</th>\n",
       "      <td>id_4</td>\n",
       "      <td>2130</td>\n",
       "      <td>0.000010</td>\n",
       "      <td>369.403342</td>\n",
       "      <td>183.193104</td>\n",
       "      <td>1756</td>\n",
       "      <td>8159</td>\n",
       "      <td>0.556879</td>\n",
       "      <td>0.164502</td>\n",
       "      <td>276.298223</td>\n",
       "      <td>...</td>\n",
       "      <td>0.113905</td>\n",
       "      <td>0.019860</td>\n",
       "      <td>4.206746</td>\n",
       "      <td>1.613522</td>\n",
       "      <td>123</td>\n",
       "      <td>67945</td>\n",
       "      <td>1465.843329</td>\n",
       "      <td>230184.7154</td>\n",
       "      <td>181220</td>\n",
       "      <td>P</td>\n",
       "    </tr>\n",
       "    <tr>\n",
       "      <th>4</th>\n",
       "      <td>id_5</td>\n",
       "      <td>2310</td>\n",
       "      <td>0.000007</td>\n",
       "      <td>257.997131</td>\n",
       "      <td>111.275889</td>\n",
       "      <td>987</td>\n",
       "      <td>4732</td>\n",
       "      <td>0.266077</td>\n",
       "      <td>0.145104</td>\n",
       "      <td>184.636510</td>\n",
       "      <td>...</td>\n",
       "      <td>0.121782</td>\n",
       "      <td>0.020872</td>\n",
       "      <td>3.319036</td>\n",
       "      <td>1.680629</td>\n",
       "      <td>92</td>\n",
       "      <td>37285</td>\n",
       "      <td>1841.702561</td>\n",
       "      <td>158290.0255</td>\n",
       "      <td>72575</td>\n",
       "      <td>P</td>\n",
       "    </tr>\n",
       "  </tbody>\n",
       "</table>\n",
       "<p>5 rows × 452 columns</p>\n",
       "</div>"
      ],
      "text/plain": [
       "     ID  air_time1  disp_index1  gmrt_in_air1  gmrt_on_paper1  \\\n",
       "0  id_1       5160     0.000013    120.804174       86.853334   \n",
       "1  id_2      51980     0.000016    115.318238       83.448681   \n",
       "2  id_3       2600     0.000010    229.933997      172.761858   \n",
       "3  id_4       2130     0.000010    369.403342      183.193104   \n",
       "4  id_5       2310     0.000007    257.997131      111.275889   \n",
       "\n",
       "   max_x_extension1  max_y_extension1  mean_acc_in_air1  mean_acc_on_paper1  \\\n",
       "0               957              6601          0.361800            0.217459   \n",
       "1              1694              6998          0.272513            0.144880   \n",
       "2              2333              5802          0.387020            0.181342   \n",
       "3              1756              8159          0.556879            0.164502   \n",
       "4               987              4732          0.266077            0.145104   \n",
       "\n",
       "   mean_gmrt1  ...  mean_jerk_in_air25  mean_jerk_on_paper25  \\\n",
       "0  103.828754  ...            0.141434              0.024471   \n",
       "1   99.383459  ...            0.049663              0.018368   \n",
       "2  201.347928  ...            0.178194              0.017174   \n",
       "3  276.298223  ...            0.113905              0.019860   \n",
       "4  184.636510  ...            0.121782              0.020872   \n",
       "\n",
       "   mean_speed_in_air25  mean_speed_on_paper25  num_of_pendown25  paper_time25  \\\n",
       "0             5.596487               3.184589                71         40120   \n",
       "1             1.665973               0.950249               129        126700   \n",
       "2             4.000781               2.392521                74         45480   \n",
       "3             4.206746               1.613522               123         67945   \n",
       "4             3.319036               1.680629                92         37285   \n",
       "\n",
       "   pressure_mean25  pressure_var25  total_time25  class  \n",
       "0      1749.278166     296102.7676        144605      P  \n",
       "1      1504.768272     278744.2850        298640      P  \n",
       "2      1431.443492     144411.7055         79025      P  \n",
       "3      1465.843329     230184.7154        181220      P  \n",
       "4      1841.702561     158290.0255         72575      P  \n",
       "\n",
       "[5 rows x 452 columns]"
      ]
     },
     "execution_count": 93,
     "metadata": {},
     "output_type": "execute_result"
    }
   ],
   "source": [
    "# Load dataset\n",
    "og_df = pd.read_csv(\"data.csv\")\n",
    "og_df.head()"
   ]
  },
  {
   "cell_type": "code",
   "execution_count": 94,
   "metadata": {},
   "outputs": [
    {
     "data": {
      "text/plain": [
       "(174, 452)"
      ]
     },
     "execution_count": 94,
     "metadata": {},
     "output_type": "execute_result"
    }
   ],
   "source": [
    "#getting shape, datatypes, and information just for reference\n",
    "og_df.shape"
   ]
  },
  {
   "cell_type": "code",
   "execution_count": 95,
   "metadata": {},
   "outputs": [
    {
     "name": "stdout",
     "output_type": "stream",
     "text": [
      "<class 'pandas.core.frame.DataFrame'>\n",
      "RangeIndex: 174 entries, 0 to 173\n",
      "Columns: 452 entries, ID to class\n",
      "dtypes: float64(300), int64(150), object(2)\n",
      "memory usage: 614.6+ KB\n"
     ]
    }
   ],
   "source": [
    "og_df.info()"
   ]
  },
  {
   "cell_type": "code",
   "execution_count": 96,
   "metadata": {},
   "outputs": [
    {
     "data": {
      "text/plain": [
       "ID                  object\n",
       "air_time1            int64\n",
       "disp_index1        float64\n",
       "gmrt_in_air1       float64\n",
       "gmrt_on_paper1     float64\n",
       "                    ...   \n",
       "paper_time25         int64\n",
       "pressure_mean25    float64\n",
       "pressure_var25     float64\n",
       "total_time25         int64\n",
       "class               object\n",
       "Length: 452, dtype: object"
      ]
     },
     "execution_count": 96,
     "metadata": {},
     "output_type": "execute_result"
    }
   ],
   "source": [
    "og_df.dtypes"
   ]
  },
  {
   "cell_type": "code",
   "execution_count": 97,
   "metadata": {},
   "outputs": [
    {
     "data": {
      "text/plain": [
       "ID                 0\n",
       "air_time1          0\n",
       "disp_index1        0\n",
       "gmrt_in_air1       0\n",
       "gmrt_on_paper1     0\n",
       "                  ..\n",
       "paper_time25       0\n",
       "pressure_mean25    0\n",
       "pressure_var25     0\n",
       "total_time25       0\n",
       "class              0\n",
       "Length: 452, dtype: int64"
      ]
     },
     "execution_count": 97,
     "metadata": {},
     "output_type": "execute_result"
    }
   ],
   "source": [
    "# Check for any missing values\n",
    "og_df.isnull().sum()"
   ]
  },
  {
   "cell_type": "markdown",
   "metadata": {},
   "source": [
    "**Step 2**: Get columns needed for detection models.\n",
    "For our purposes, we are planning to go with trials 1, 2, and 6 since they are different writing tests (M,G,C) that patients were made to do.\n",
    "We are also focusing on certain columns of each since we believe these are the most important for the model's predictions:\n",
    "1. Mean jerk on paper (MJP)\n",
    "2. Mean jerk in air (MJA)\n",
    "3. Mean speed on paper (MSP)\n",
    "4. Mean speed in air (MSA)\n",
    "5. Total time (TT)\n",
    "6. Pressure mean (PM)\n",
    "\n",
    "We will also need the class column to classify each person as either a patient (P) or healthy (H)."
   ]
  },
  {
   "cell_type": "code",
   "execution_count": 98,
   "metadata": {},
   "outputs": [],
   "source": [
    "# Rename values in 'class' column\n",
    "og_df['class'] = og_df['class'].map({'P' : 0, 'H' : 1})\n",
    "corr_matrix = np.array(og_df.corr(numeric_only=True))"
   ]
  },
  {
   "cell_type": "code",
   "execution_count": 99,
   "metadata": {},
   "outputs": [],
   "source": [
    "# Select relevant characteristics: MJP, MJA, MSP, MSA, TT, PM, Class(label: patient (0) or healthy (1))\n",
    "trial1 = pd.DataFrame(og_df[['mean_jerk_on_paper1', 'mean_jerk_in_air1', 'mean_speed_on_paper1', \n",
    "                      'mean_speed_in_air1', 'total_time1', 'pressure_mean1', 'class']])\n",
    "\n",
    "trial2 = pd.DataFrame(og_df[['mean_jerk_on_paper2', 'mean_jerk_in_air2', 'mean_speed_on_paper2', \n",
    "                             'mean_speed_in_air2', 'total_time2', 'pressure_mean2', 'class']])\n",
    "\n",
    "trial6 = pd.DataFrame(og_df[['mean_jerk_on_paper6', 'mean_jerk_in_air6', 'mean_speed_on_paper6', \n",
    "                      'mean_speed_in_air6', 'total_time6', 'pressure_mean6', 'class']])\n",
    "\n",
    "#rename all column headers\n",
    "trial1.columns = trial2.columns = trial6.columns = ['MJP', 'MJA', 'MSP', 'MSA', 'TT', 'PM', 'Class']\n"
   ]
  },
  {
   "cell_type": "markdown",
   "metadata": {},
   "source": [
    "**Step 3**: Modeling\n",
    "We are implementing 2 models:\n",
    "1. Naive Bayes\n",
    "2. Rainforest"
   ]
  },
  {
   "cell_type": "code",
   "execution_count": null,
   "metadata": {},
   "outputs": [],
   "source": [
    "# building models\n",
    "\n",
    "from sklearn.model_selection import train_test_split\n",
    "\n",
    "# TRIAL 1\n",
    "\n",
    "# Split data into features & target\n",
    "X = trial1.drop('Class', axis=1)\n",
    "y = trial1['Class']\n",
    "\n",
    "# Make training & test sets - 30% of data goes to test set, 70% to training - can change random_state to any # - \n",
    "X_train, X_test, y_train, y_test = train_test_split(X, y, test_size=0.3, random_state=42, stratify=y)\n",
    "\n",
    "# Train a NB Classifier (assuming it follows a normal distribution)\n",
    "from sklearn.naive_bayes import GaussianNB\n",
    "\n",
    "model1 = GaussianNB()\n",
    "model1.fit(X_train, y_train)\n",
    "\n",
    "# Make prediction\n",
    "y_pred = model1.predict(X_test)\n",
    "\n",
    "# analysis\n",
    "from sklearn.metrics import classification_report, accuracy_score, confusion_matrix\n",
    "\n",
    "# Accuracy\n",
    "print(\"Accuracy:\", accuracy_score(y_test, y_pred))\n",
    "\n",
    "# Confusion Matrix\n",
    "print(\"Confusion Matrix:\\n\", confusion_matrix(y_test, y_pred))\n",
    "\n",
    "# Classification Report (precision, recall, f1-score)\n",
    "print(\"Classification Report:\\n\", classification_report(y_test, y_pred))"
   ]
  },
  {
   "cell_type": "markdown",
   "metadata": {},
   "source": [
    "- The model is shown to correctly predict whether a patient is healthy or not approximately 62% of the time. \n",
    "- Looking at the confusion matrix, there were 16 TP (true positives - 16 people were healthy and were correctly classified), 10 FN (false negatives - 10 healthy people were predicted as patients), 10 FP (false positives - 10 patients were misclassified as healthy), and 17 TN (true negatives - 17 patients got classified correctly).\n",
    "- Looking at the classification report:\n",
    "    - Precision: Of all the times the model made a prediction, 62% of predicted healthy were actually healthy, 63% of predicted patients were actually patient\n",
    "    - Recall: Of all the actual H & P examples, the model found 62% of actual healthy people correctly, and 63% of actual patients correctly\n",
    "    - f1-score: 62-63% for both H and P, so a pretty balanced performance measure"
   ]
  },
  {
   "cell_type": "markdown",
   "metadata": {},
   "source": [
    "**Step 4**: Comparing Two Models\n",
    "Given the results of the two models, we are now going to compare the accuracies and differences between the two. For comparison, we will be using matplotlib and seaborn."
   ]
  },
  {
   "cell_type": "code",
   "execution_count": 100,
   "metadata": {},
   "outputs": [],
   "source": [
    "#import for visualization\n",
    "import matplotlib.pyplot as plt\n",
    "import seaborn as sns"
   ]
  },
  {
   "cell_type": "code",
   "execution_count": null,
   "metadata": {},
   "outputs": [],
   "source": []
  }
 ],
 "metadata": {
  "kernelspec": {
   "display_name": "Python 3",
   "language": "python",
   "name": "python3"
  },
  "language_info": {
   "codemirror_mode": {
    "name": "ipython",
    "version": 3
   },
   "file_extension": ".py",
   "mimetype": "text/x-python",
   "name": "python",
   "nbconvert_exporter": "python",
   "pygments_lexer": "ipython3",
   "version": "3.10.1"
  },
  "orig_nbformat": 4
 },
 "nbformat": 4,
 "nbformat_minor": 2
}
